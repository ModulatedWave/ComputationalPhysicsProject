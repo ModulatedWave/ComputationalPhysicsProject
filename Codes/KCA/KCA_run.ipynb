{
 "cells": [
  {
   "cell_type": "code",
   "execution_count": 1,
   "id": "a8736974-02dd-4881-be2f-28f1a4555a3c",
   "metadata": {},
   "outputs": [],
   "source": [
    "import numpy as np\n",
    "import matplotlib.pyplot as plt\n",
    "from itertools import product\n",
    "from scipy.sparse import lil_matrix\n",
    "from tqdm import tqdm"
   ]
  },
  {
   "cell_type": "code",
   "execution_count": 2,
   "id": "b8b06d15-5292-4e48-b43b-f4b369cf8682",
   "metadata": {},
   "outputs": [],
   "source": [
    "def evaluate_index(combinations, state_slice):\n",
    "    return np.where((combinations == state_slice).all(axis=1))[0][0]\n",
    "\n",
    "def KCA(N, K, t, p):\n",
    "    \n",
    "    state = np.random.choice([-1, 1], size=N, p=[0.5, 0.5])\n",
    "    state_p = np.copy(state)\n",
    "    state_p[N//2] *= -1\n",
    "    \n",
    "    f = np.random.choice([-1, 1], size=2**(2*K + 1), p=[1-p, p])\n",
    "    \n",
    "    arr = [state]\n",
    "    srr = [state_p]\n",
    "    \n",
    "    for j in tqdm(range(t)):\n",
    "        \n",
    "        state_new = np.zeros(N)\n",
    "        state_new_p = np.zeros(N)\n",
    "        \n",
    "        for i in range(N):\n",
    "            \n",
    "            idx = slice(i-K, i+(K+1))\n",
    "            state_slice = state[np.mod(np.arange(idx.start, idx.stop, idx.step), N)]\n",
    "            state_new[i] = f[evaluate_index(combinations, state_slice)]\n",
    "            \n",
    "            state_slice_p = state_p[np.mod(np.arange(idx.start, idx.stop, idx.step), N)]\n",
    "            state_new_p[i] = f[evaluate_index(combinations, state_slice_p)]\n",
    "        \n",
    "        state = state_new\n",
    "        arr.append(state)\n",
    "        \n",
    "        state_p = state_new_p\n",
    "        srr.append(state_p)\n",
    "    \n",
    "    arr = np.array(arr)\n",
    "    srr = np.array(srr)\n",
    "    \n",
    "    d = 1/2 * (1 - arr*srr)\n",
    "    \n",
    "    return d"
   ]
  },
  {
   "cell_type": "code",
   "execution_count": 3,
   "id": "8de0a0f4-9228-479e-ada4-9c1bcdb8128e",
   "metadata": {},
   "outputs": [
    {
     "name": "stderr",
     "output_type": "stream",
     "text": [
      "100%|█████████████████████████████████████████| 400/400 [01:59<00:00,  3.35it/s]\n",
      "100%|█████████████████████████████████████████| 400/400 [02:10<00:00,  3.06it/s]\n",
      "100%|█████████████████████████████████████████| 400/400 [02:10<00:00,  3.07it/s]\n",
      "100%|█████████████████████████████████████████| 400/400 [02:09<00:00,  3.10it/s]\n",
      "100%|█████████████████████████████████████████| 400/400 [02:07<00:00,  3.13it/s]\n",
      "100%|█████████████████████████████████████████| 400/400 [02:08<00:00,  3.12it/s]\n",
      "100%|█████████████████████████████████████████| 400/400 [02:10<00:00,  3.06it/s]\n",
      "100%|█████████████████████████████████████████| 400/400 [02:08<00:00,  3.11it/s]\n",
      "100%|█████████████████████████████████████████| 400/400 [02:09<00:00,  3.09it/s]\n",
      "100%|█████████████████████████████████████████| 400/400 [02:09<00:00,  3.08it/s]\n",
      "100%|█████████████████████████████████████████| 400/400 [02:10<00:00,  3.07it/s]\n",
      "100%|█████████████████████████████████████████| 400/400 [02:10<00:00,  3.06it/s]\n",
      "100%|█████████████████████████████████████████| 400/400 [02:10<00:00,  3.06it/s]\n",
      "100%|█████████████████████████████████████████| 400/400 [02:11<00:00,  3.05it/s]\n",
      "100%|█████████████████████████████████████████| 400/400 [02:11<00:00,  3.03it/s]\n",
      "100%|█████████████████████████████████████████| 400/400 [02:11<00:00,  3.05it/s]\n",
      "100%|█████████████████████████████████████████| 400/400 [02:12<00:00,  3.03it/s]\n",
      "100%|█████████████████████████████████████████| 400/400 [02:12<00:00,  3.02it/s]\n",
      "100%|█████████████████████████████████████████| 400/400 [02:12<00:00,  3.03it/s]\n",
      "100%|█████████████████████████████████████████| 400/400 [02:12<00:00,  3.03it/s]\n",
      "100%|█████████████████████████████████████████| 400/400 [02:12<00:00,  3.03it/s]\n",
      "100%|█████████████████████████████████████████| 400/400 [02:12<00:00,  3.02it/s]\n",
      "100%|█████████████████████████████████████████| 400/400 [02:12<00:00,  3.02it/s]\n",
      "100%|█████████████████████████████████████████| 400/400 [02:12<00:00,  3.02it/s]\n",
      "100%|█████████████████████████████████████████| 400/400 [02:12<00:00,  3.03it/s]\n",
      "100%|█████████████████████████████████████████| 400/400 [02:12<00:00,  3.02it/s]\n"
     ]
    }
   ],
   "source": [
    "N = 2048\n",
    "K = 5\n",
    "t = 400\n",
    "\n",
    "n = 25\n",
    "\n",
    "combinations = np.array(list(product([-1, 1], repeat=(2*K+1))))\n",
    "\n",
    "d = KCA(N, K, t, p=0.40) / n\n",
    "for i in range(n):\n",
    "    d += KCA(N, K, t, p=0.40) / n\n",
    "    \n",
    "np.savetxt(f'data/d_K_{K}_N_{N}_t_{t}_n_{n}.txt', d)"
   ]
  },
  {
   "cell_type": "code",
   "execution_count": null,
   "id": "0a59a718-603b-4a2d-8370-c14c7f0ad3ec",
   "metadata": {},
   "outputs": [],
   "source": []
  },
  {
   "cell_type": "code",
   "execution_count": null,
   "id": "3a45aae3-e08c-42a0-8ad8-98d0be5aea80",
   "metadata": {},
   "outputs": [],
   "source": []
  }
 ],
 "metadata": {
  "kernelspec": {
   "display_name": "Python 3 (ipykernel)",
   "language": "python",
   "name": "python3"
  },
  "language_info": {
   "codemirror_mode": {
    "name": "ipython",
    "version": 3
   },
   "file_extension": ".py",
   "mimetype": "text/x-python",
   "name": "python",
   "nbconvert_exporter": "python",
   "pygments_lexer": "ipython3",
   "version": "3.10.8"
  }
 },
 "nbformat": 4,
 "nbformat_minor": 5
}
